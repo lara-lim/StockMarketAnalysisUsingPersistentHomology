{
 "cells": [
  {
   "cell_type": "code",
   "execution_count": 11,
   "metadata": {},
   "outputs": [],
   "source": [
    "import numpy as np \n",
    "import pandas as pd "
   ]
  },
  {
   "cell_type": "code",
   "execution_count": null,
   "metadata": {},
   "outputs": [],
   "source": [
    "# Extract the data of the stock closing prices\n",
    "df = pd.read_csv(r\"../PSEi.csv\")\n",
    "df = df.dropna()\n",
    "df['Date'] = pd.to_datetime(df['Date'])\n",
    "stockReturnsTechInd = df.reset_index(drop=True)"
   ]
  },
  {
   "cell_type": "code",
   "execution_count": null,
   "metadata": {},
   "outputs": [],
   "source": [
    "def classifyByDirection(data):\n",
    "    '''class label for next day direction of data: 1 if increase, 0 if decrease'''\n",
    "    classArray = []\n",
    "    for rowIndex in range(len(data)):\n",
    "        if rowIndex == len(data)-1:\n",
    "            classLabel = None\n",
    "        elif data[rowIndex+1] > data[rowIndex]:\n",
    "            classLabel = 1\n",
    "        elif data[rowIndex+1] < data[rowIndex]:\n",
    "            classLabel = 0\n",
    "        classArray.append(classLabel)\n",
    "    return classArray\n",
    "  \n",
    "stockReturnsTechInd['Class'] = classifyByDirection(stockReturnsTechInd['PSEi'])\n",
    "stockReturnsTechInd = stockReturnsTechInd.dropna()\n",
    "stockReturnsTechInd['Class'] = stockReturnsTechInd['Class'].astype('int64')"
   ]
  },
  {
   "cell_type": "code",
   "execution_count": null,
   "metadata": {},
   "outputs": [],
   "source": [
    "def convertToStockReturns(data):\n",
    "    '''convert the stock closing price to stock returns'''\n",
    "    srArray = []\n",
    "    for index in range(len(data)):\n",
    "        if index == 0:\n",
    "            srValue = None\n",
    "        else:\n",
    "            srValue = np.log(data[index] / data[index-1])\n",
    "        srArray.append(srValue)\n",
    "    return srArray\n",
    "\n",
    "# Create new columns for stock returns of each index\n",
    "stockReturnsTechInd['PSEi_SR'] = convertToStockReturns(stockReturnsTechInd['PSEi'])\n",
    "stockReturnsTechInd['PSE SER_SR'] = convertToStockReturns(stockReturnsTechInd['PSE SER'])\n",
    "stockReturnsTechInd['PSE IND_SR'] = convertToStockReturns(stockReturnsTechInd['PSE IND'])"
   ]
  },
  {
   "cell_type": "code",
   "execution_count": null,
   "metadata": {},
   "outputs": [],
   "source": [
    "def computeSMA(data, ndays: int = 10): \n",
    "    '''computes the Simple Moving Average of a period of ndays'''\n",
    "    SMA = data.rolling(ndays).mean()\n",
    "    return SMA\n",
    "\n",
    "stockReturnsTechInd['SMA'] = computeSMA(stockReturnsTechInd['PSEi'])"
   ]
  },
  {
   "cell_type": "code",
   "execution_count": null,
   "metadata": {},
   "outputs": [],
   "source": [
    "def computeWMA(data, ndays: int = 10):\n",
    "    '''computes the Weighted Moving Average of a period of ndays'''\n",
    "    ncoeff = list(range(ndays, 0, -1))\n",
    "    WMA = data.rolling(ndays).apply(lambda x: (ncoeff*x).sum()) / np.sum(ncoeff)\n",
    "    return WMA\n",
    "\n",
    "stockReturnsTechInd['WMA'] = computeWMA(stockReturnsTechInd['PSEi'])"
   ]
  },
  {
   "cell_type": "code",
   "execution_count": null,
   "metadata": {},
   "outputs": [],
   "source": [
    "def computeROC(data, ndays: int = 10):\n",
    "    '''computes the Rate of Change over the period of ndays'''\n",
    "    ROC = data.diff(ndays-1)\n",
    "    return ROC\n",
    "\n",
    "stockReturnsTechInd['ROC'] = computeROC(stockReturnsTechInd['PSEi'])"
   ]
  },
  {
   "cell_type": "code",
   "execution_count": null,
   "metadata": {},
   "outputs": [],
   "source": [
    "def computeStochK(data,ndays: int = 10):\n",
    "    '''computes Stochastic K % over a period of ndays'''\n",
    "    lp = data.rolling(ndays).min() # Lowest price of the rolling window \n",
    "    hp = data.rolling(ndays).max() # Highest price of the rolling window\n",
    "    SK = ((data - lp) / (hp - lp)) * 100\n",
    "    return SK\n",
    "\n",
    "def computeStochD(data, ndays: int = 10):\n",
    "    '''Computes the Stochastic D % from the Stochastic K%'''\n",
    "    SD = data.rolling(ndays).mean()\n",
    "    return SD\n",
    "\n",
    "stockReturnsTechInd['Stochastic D'] = computeStochD(stockReturnsTechInd['Stochastic K'])"
   ]
  },
  {
   "cell_type": "code",
   "execution_count": null,
   "metadata": {},
   "outputs": [],
   "source": [
    "def computeRSI(data, ndays: int = 10):\n",
    "    '''computes for the Relative Strength Index over a period of ndays'''\n",
    "    closeDifference = data.diff() \n",
    "    up = closeDifference.clip(lower=0) # Upward daily price changes \n",
    "    down = -1 * closeDifference.clip(upper=0) # Downward daily price changes \n",
    "    \n",
    "    maUp = up.rolling(ndays).mean() # Average gain\n",
    "    maDown = down.rolling(ndays).mean() # Average loss\n",
    "    \n",
    "    ratio = maUp / maDown\n",
    "    RSI = 100 - (100/(1 + ratio))\n",
    "    return RSI\n",
    "\n",
    "stockReturnsTechInd['RSI'] = computeRSI(stockReturnsTechInd['PSEi'])"
   ]
  },
  {
   "cell_type": "code",
   "execution_count": null,
   "metadata": {},
   "outputs": [],
   "source": [
    "def computeEMA(data, ndays: int):\n",
    "    '''computes for the Exponential Moving Average'''\n",
    "    EMA = np.zeros(len(data)) \n",
    "    beta = 2 / (ndays + 1) # Weight\n",
    "    EMA[ndays-1] = data.iloc[:ndays].mean() # Compute for first EMA value \n",
    "    for index in range(ndays, len(data)): # Compute for rest of EMA values\n",
    "        EMA[index] = (data[index] * beta) + (1 - beta) * (EMA[index-1])\n",
    "    return EMA\n",
    "\n",
    "def computeMACD(data, ndays: int = 10, short_term = 12, long_term = 26):\n",
    "    '''computes for the Moving Average Converge Diverge'''\n",
    "    MACD = np.zeros(len(data))\n",
    "    alpha = 2 / (ndays + 1) # Weight\n",
    "    firstDayIndex = long_term + ndays - 1 \n",
    "    shortEMA = computeEMA(data, short_term) # Short-term EMA default at 12\n",
    "    longEMA = computeEMA(data, long_term) # Longer-term EMA default at 26\n",
    "    diffEMA = shortEMA - longEMA # Difference of short-term and longer-term EMA\n",
    "    MACD[firstDayIndex-1] = diffEMA[(firstDayIndex-ndays):firstDayIndex].mean() # Compute for first MACD value\n",
    "    for index in range((firstDayIndex), len(data)): # Compute for rest of MACD values\n",
    "        MACD[index] = (alpha * diffEMA[index]) + ((1-alpha) * MACD[index-1])\n",
    "    return MACD\n",
    "\n",
    "stockReturnsTechInd['MACD'] = computeMACD(stockReturnsTechInd['PSEi'])"
   ]
  },
  {
   "cell_type": "code",
   "execution_count": null,
   "metadata": {},
   "outputs": [],
   "source": [
    "stockReturnsTechInd"
   ]
  },
  {
   "cell_type": "code",
   "execution_count": null,
   "metadata": {},
   "outputs": [],
   "source": [
    "# # Save the new file including both stock returns and technical indicators\n",
    "# stockReturnsTechInd.to_csv('../Data/PSE-SR-TI.csv', index=False)"
   ]
  }
 ],
 "metadata": {
  "kernelspec": {
   "display_name": "Python 3",
   "language": "python",
   "name": "python3"
  },
  "language_info": {
   "codemirror_mode": {
    "name": "ipython",
    "version": 3
   },
   "file_extension": ".py",
   "mimetype": "text/x-python",
   "name": "python",
   "nbconvert_exporter": "python",
   "pygments_lexer": "ipython3",
   "version": "3.11.1"
  }
 },
 "nbformat": 4,
 "nbformat_minor": 2
}
